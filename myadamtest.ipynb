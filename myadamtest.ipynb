{
 "cells": [
  {
   "cell_type": "code",
   "execution_count": 1,
   "id": "10e3bab0",
   "metadata": {},
   "outputs": [],
   "source": [
    "import torch \n",
    "import torchvision\n",
    "import torchvision.transforms as transforms\n",
    "import torch.nn as nn\n",
    "import torch.nn.functional as F\n",
    "import torch.optim as optim"
   ]
  },
  {
   "cell_type": "code",
   "execution_count": 29,
   "id": "5e005670",
   "metadata": {},
   "outputs": [],
   "source": [
    "\n",
    "class Network(nn.Module):\n",
    "    def __init__(self):\n",
    "        super(Network,self).__init__()\n",
    "        self.conv = nn.Conv2d(in_channels=1,\n",
    "                       out_channels=3, # Fixed to 3 feature maps\n",
    "                       kernel_size=2, \n",
    "                       stride=1,\n",
    "                       padding=0) \n",
    "        self.bn = nn.BatchNorm2d(3)\n",
    "        self.relu = nn.ReLU()\n",
    "        self.maxpool = nn.MaxPool2d(kernel_size=2, stride=2, padding=0)\n",
    "        self.flatten = nn.Flatten()\n",
    "        self.fc = nn.Linear(3 * 13 * 13, 10)\n",
    "\n",
    "\n",
    "    def forward(self, input):\n",
    "        x = self.conv(input)      # (N, 3, 27, 27)\n",
    "        x = self.bn(x)            # (N, 3, 27, 27)\n",
    "        x = self.relu(x)          # (N, 3, 27, 27)\n",
    "        x = self.maxpool(x)       # (N, 3, 13, 13)\n",
    "        x = self.flatten(x)       # (N, 507)\n",
    "        x = self.fc(x)            # (N, 10)\n",
    "        return x\n",
    "\n",
    "cnn_network = Network()\n",
    "# if torch.cuda.is_available():\n",
    "#     network = network.cuda()\n",
    "    "
   ]
  },
  {
   "cell_type": "code",
   "execution_count": 30,
   "id": "da969ad8",
   "metadata": {},
   "outputs": [
    {
     "data": {
      "text/plain": [
       "{'conv.weight': Parameter containing:\n",
       " tensor([[[[ 0.3816, -0.4627],\n",
       "           [ 0.3423,  0.2251]]],\n",
       " \n",
       " \n",
       "         [[[ 0.1137, -0.4494],\n",
       "           [ 0.1674,  0.3572]]],\n",
       " \n",
       " \n",
       "         [[[-0.0532,  0.1100],\n",
       "           [ 0.4255, -0.3246]]]], requires_grad=True),\n",
       " 'conv.bias': Parameter containing:\n",
       " tensor([-0.0719, -0.0274,  0.0188], requires_grad=True),\n",
       " 'bn.weight': Parameter containing:\n",
       " tensor([1., 1., 1.], requires_grad=True),\n",
       " 'bn.bias': Parameter containing:\n",
       " tensor([0., 0., 0.], requires_grad=True),\n",
       " 'fc.weight': Parameter containing:\n",
       " tensor([[ 0.0431,  0.0269, -0.0071,  ...,  0.0012,  0.0417, -0.0121],\n",
       "         [-0.0199,  0.0111,  0.0313,  ...,  0.0073, -0.0351,  0.0155],\n",
       "         [-0.0189, -0.0205,  0.0046,  ...,  0.0208,  0.0336,  0.0335],\n",
       "         ...,\n",
       "         [ 0.0323, -0.0056, -0.0165,  ..., -0.0177, -0.0255,  0.0142],\n",
       "         [-0.0108,  0.0280, -0.0343,  ...,  0.0280, -0.0361,  0.0182],\n",
       "         [-0.0312,  0.0435,  0.0265,  ..., -0.0089,  0.0308, -0.0417]],\n",
       "        requires_grad=True),\n",
       " 'fc.bias': Parameter containing:\n",
       " tensor([-9.0705e-03, -2.1855e-02, -2.3185e-02,  2.0131e-02, -1.8880e-02,\n",
       "         -9.2983e-05,  1.9036e-02,  2.7173e-03, -2.5439e-02, -3.9791e-02],\n",
       "        requires_grad=True)}"
      ]
     },
     "execution_count": 30,
     "metadata": {},
     "output_type": "execute_result"
    }
   ],
   "source": [
    "dict(cnn_network.named_parameters())"
   ]
  },
  {
   "cell_type": "code",
   "execution_count": 32,
   "id": "f969257a",
   "metadata": {},
   "outputs": [
    {
     "data": {
      "text/plain": [
       "torch.Size([10, 507])"
      ]
     },
     "execution_count": 32,
     "metadata": {},
     "output_type": "execute_result"
    }
   ],
   "source": [
    "cnn_network.fc.weight.size()"
   ]
  },
  {
   "cell_type": "code",
   "execution_count": 17,
   "id": "81fd6500",
   "metadata": {},
   "outputs": [],
   "source": [
    "train_set = torchvision.datasets.FashionMNIST(\n",
    "    root = 'FashionMNIST/',\n",
    "    train = True,\n",
    "    download = True,\n",
    "    transform = transforms.Compose([\n",
    "        transforms.ToTensor()\n",
    "    ])\n",
    ")\n",
    "\n",
    "test_set = torchvision.datasets.FashionMNIST(\n",
    "    root = 'FashionMNIST/',\n",
    "    train = False,\n",
    "    download = True,\n",
    "    transform = transforms.Compose([\n",
    "        transforms.ToTensor()\n",
    "    ])\n",
    ")\n",
    "\n",
    "train_loader = torch.utils.data.DataLoader(train_set, batch_size=100)\n",
    "test_loader = torch.utils.data.DataLoader(test_set, batch_size=100)"
   ]
  },
  {
   "cell_type": "code",
   "execution_count": 19,
   "id": "9a024337",
   "metadata": {},
   "outputs": [],
   "source": [
    "images, labels = next(iter(train_loader))"
   ]
  },
  {
   "cell_type": "code",
   "execution_count": 22,
   "id": "645a144d",
   "metadata": {},
   "outputs": [
    {
     "data": {
      "text/plain": [
       "(torch.Size([100, 1, 28, 28]), torch.Size([100]))"
      ]
     },
     "execution_count": 22,
     "metadata": {},
     "output_type": "execute_result"
    }
   ],
   "source": [
    "images.shape, labels.shape"
   ]
  },
  {
   "cell_type": "code",
   "execution_count": 33,
   "id": "75c00a73",
   "metadata": {},
   "outputs": [],
   "source": [
    "A_out = cnn_network.forward(images)"
   ]
  },
  {
   "cell_type": "code",
   "execution_count": 34,
   "id": "31ce106b",
   "metadata": {},
   "outputs": [
    {
     "data": {
      "text/plain": [
       "torch.Size([100, 10])"
      ]
     },
     "execution_count": 34,
     "metadata": {},
     "output_type": "execute_result"
    }
   ],
   "source": [
    "A_out.shape"
   ]
  },
  {
   "cell_type": "code",
   "execution_count": 35,
   "id": "d94316b0",
   "metadata": {},
   "outputs": [
    {
     "data": {
      "text/plain": [
       "torch.Size([100])"
      ]
     },
     "execution_count": 35,
     "metadata": {},
     "output_type": "execute_result"
    }
   ],
   "source": [
    "labels.shape"
   ]
  },
  {
   "cell_type": "code",
   "execution_count": 36,
   "id": "a8e81ac1",
   "metadata": {},
   "outputs": [],
   "source": [
    "loss = F.cross_entropy(A_out, labels)"
   ]
  },
  {
   "cell_type": "code",
   "execution_count": 37,
   "id": "b44fb2ae",
   "metadata": {},
   "outputs": [
    {
     "data": {
      "text/plain": [
       "tensor(2.4624, grad_fn=<NllLossBackward0>)"
      ]
     },
     "execution_count": 37,
     "metadata": {},
     "output_type": "execute_result"
    }
   ],
   "source": [
    "loss"
   ]
  },
  {
   "cell_type": "code",
   "execution_count": 38,
   "id": "6f9479f5",
   "metadata": {},
   "outputs": [
    {
     "name": "stdout",
     "output_type": "stream",
     "text": [
      "<class 'NllLossBackward0'>\n",
      "<class 'LogSoftmaxBackward0'>\n",
      "<class 'AddmmBackward0'>\n",
      "<class 'AccumulateGrad'>\n",
      "<class 'ViewBackward0'>\n",
      "<class 'MaxPool2DWithIndicesBackward0'>\n",
      "<class 'ReluBackward0'>\n",
      "<class 'NativeBatchNormBackward0'>\n",
      "<class 'ConvolutionBackward0'>\n",
      "<class 'AccumulateGrad'>\n",
      "<class 'AccumulateGrad'>\n",
      "<class 'AccumulateGrad'>\n",
      "<class 'AccumulateGrad'>\n",
      "<class 'TBackward0'>\n",
      "<class 'AccumulateGrad'>\n"
     ]
    }
   ],
   "source": [
    "def traverse(node, visited=set()):\n",
    "    if node is None or node in visited:\n",
    "        return\n",
    "    visited.add(node)\n",
    "    print(type(node))\n",
    "    if hasattr(node, 'next_functions'):\n",
    "        for f, _ in node.next_functions:\n",
    "            traverse(f, visited)\n",
    "\n",
    "traverse(loss.grad_fn)"
   ]
  },
  {
   "cell_type": "code",
   "execution_count": 40,
   "id": "24756037",
   "metadata": {},
   "outputs": [
    {
     "name": "stdout",
     "output_type": "stream",
     "text": [
      "conv.weight\n",
      "None\n",
      "conv.bias\n",
      "None\n",
      "bn.weight\n",
      "None\n",
      "bn.bias\n",
      "None\n",
      "fc.weight\n",
      "None\n",
      "fc.bias\n",
      "None\n"
     ]
    }
   ],
   "source": [
    "for name, param in cnn_network.named_parameters():\n",
    "    print(name)\n",
    "    print(param.grad)"
   ]
  },
  {
   "cell_type": "markdown",
   "id": "6b6b7270",
   "metadata": {},
   "source": [
    "As you can see, none of them have grads yet. This is cos we haven't ran backwards. "
   ]
  },
  {
   "cell_type": "code",
   "execution_count": 41,
   "id": "4b22e40b",
   "metadata": {},
   "outputs": [],
   "source": [
    "loss.backward()"
   ]
  },
  {
   "cell_type": "code",
   "execution_count": 44,
   "id": "58ce97b4",
   "metadata": {},
   "outputs": [
    {
     "name": "stdout",
     "output_type": "stream",
     "text": [
      "conv.weight\n",
      "tensor([[[[ 0.0022, -0.0591],\n",
      "          [-0.0333, -0.0745]]],\n",
      "\n",
      "\n",
      "        [[[-0.3702, -0.3140],\n",
      "          [-0.1772, -0.1936]]],\n",
      "\n",
      "\n",
      "        [[[ 0.0539, -0.0747],\n",
      "          [-0.0773, -0.1359]]]])\n",
      "torch.Size([3, 1, 2, 2])\n",
      "conv.bias\n",
      "tensor([ 5.5879e-09,  4.1351e-07, -1.1735e-07])\n",
      "torch.Size([3])\n",
      "bn.weight\n",
      "tensor([0.1121, 0.1651, 0.0776])\n",
      "torch.Size([3])\n",
      "bn.bias\n",
      "tensor([0.0711, 0.0261, 0.0548])\n",
      "torch.Size([3])\n",
      "fc.weight\n",
      "tensor([[ 0.0000,  0.0000, -0.0172,  ..., -0.1634,  0.0375,  0.0432],\n",
      "        [ 0.0000,  0.0000,  0.0008,  ...,  0.0029,  0.0228,  0.0193],\n",
      "        [ 0.0000,  0.0000, -0.0121,  ..., -0.0481, -0.1238, -0.0419],\n",
      "        ...,\n",
      "        [ 0.0000,  0.0000,  0.0014,  ...,  0.0321,  0.0235,  0.0142],\n",
      "        [ 0.0000,  0.0000,  0.0023,  ...,  0.0607,  0.0272,  0.0226],\n",
      "        [ 0.0000,  0.0000,  0.0098,  ...,  0.1240,  0.0708,  0.0184]])\n",
      "torch.Size([10, 507])\n",
      "fc.bias\n",
      "tensor([-0.0167, -0.0613, -0.0206, -0.0038, -0.0113, -0.0044, -0.0153, -0.0236,\n",
      "         0.0815,  0.0755])\n",
      "torch.Size([10])\n"
     ]
    }
   ],
   "source": [
    "for name, param in cnn_network.named_parameters():\n",
    "    print(name)\n",
    "    print(param.grad)\n",
    "    print(param.grad.size())"
   ]
  },
  {
   "cell_type": "code",
   "execution_count": null,
   "id": "fc4168a6",
   "metadata": {},
   "outputs": [],
   "source": []
  }
 ],
 "metadata": {
  "kernelspec": {
   "display_name": "ml",
   "language": "python",
   "name": "python3"
  },
  "language_info": {
   "codemirror_mode": {
    "name": "ipython",
    "version": 3
   },
   "file_extension": ".py",
   "mimetype": "text/x-python",
   "name": "python",
   "nbconvert_exporter": "python",
   "pygments_lexer": "ipython3",
   "version": "3.13.7"
  }
 },
 "nbformat": 4,
 "nbformat_minor": 5
}
