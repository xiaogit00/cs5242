{
 "cells": [
  {
   "cell_type": "code",
   "execution_count": 1,
   "id": "3a985d1f",
   "metadata": {},
   "outputs": [],
   "source": [
    "import torch\n",
    "import torch.nn as nn\n",
    "import torch.nn.functional as F\n",
    "\n",
    "class NeuralNetwork(nn.Module):\n",
    "    def __init__(self):\n",
    "        super(NeuralNetwork, self).__init__()\n",
    "        # Input layer -> Hidden layer (3 -> 4)\n",
    "        self.fc1 = nn.Linear(3, 4)\n",
    "        # Hidden layer -> Output layer (4 -> 1)\n",
    "        self.fc2 = nn.Linear(4, 1)\n",
    "\n",
    "    def forward(self, x):\n",
    "        # Pass input through first layer + activation\n",
    "        x = F.relu(self.fc1(x))   # hidden layer with ReLU\n",
    "        # Pass through output layer\n",
    "        x = torch.sigmoid(self.fc2(x))  # output layer with sigmoid (for binary classification)\n",
    "        return x\n",
    "\n",
    "# Step 2: Create a model instance\n",
    "model = NeuralNetwork()\n",
    "\n",
    "# Step 3: Create dummy input and target\n",
    "x = torch.randn(5, 3)    # batch of 5 samples, each with 3 features\n",
    "y_true = torch.randint(0, 2, (5, 1)).float()  # random binary labels (0 or 1)\n"
   ]
  },
  {
   "cell_type": "code",
   "execution_count": null,
   "id": "65929eab",
   "metadata": {},
   "outputs": [
    {
     "name": "stdout",
     "output_type": "stream",
     "text": [
      "Predictions: [0.40170285 0.37684378 0.41908705 0.29825234 0.34698552]\n",
      "Loss before backward: 0.6681616902351379\n"
     ]
    }
   ],
   "source": [
    "\n",
    "# Step 4: Define a loss function and optimizer\n",
    "criterion = nn.BCELoss()               # binary cross entropy loss\n",
    "optimizer = torch.optim.SGD(model.parameters(), lr=0.1)\n",
    "\n",
    "# Forward pass\n",
    "y_pred = model(x)                      # shape (5,1)\n",
    "loss = criterion(y_pred, y_true)       # compute loss\n",
    "print(\"Predictions:\", y_pred.squeeze().detach().numpy())\n",
    "print(\"Loss before backward:\", loss.item())\n"
   ]
  },
  {
   "cell_type": "code",
   "execution_count": 12,
   "id": "0c54cb40",
   "metadata": {},
   "outputs": [],
   "source": [
    "for p in model.parameters():\n",
    "    p\n",
    "    break"
   ]
  },
  {
   "cell_type": "code",
   "execution_count": 42,
   "id": "405fd816",
   "metadata": {},
   "outputs": [
    {
     "name": "stdout",
     "output_type": "stream",
     "text": [
      "<class 'BinaryCrossEntropyBackward0'>\n",
      "<class 'SigmoidBackward0'>\n",
      "<class 'AddmmBackward0'>\n",
      "<class 'AccumulateGrad'>\n"
     ]
    },
    {
     "ename": "IndexError",
     "evalue": "tuple index out of range",
     "output_type": "error",
     "traceback": [
      "\u001b[31m---------------------------------------------------------------------------\u001b[39m",
      "\u001b[31mIndexError\u001b[39m                                Traceback (most recent call last)",
      "\u001b[36mCell\u001b[39m\u001b[36m \u001b[39m\u001b[32mIn[42]\u001b[39m\u001b[32m, line 5\u001b[39m\n\u001b[32m      3\u001b[39m \u001b[38;5;28mprint\u001b[39m(\u001b[38;5;28mtype\u001b[39m(node))\n\u001b[32m      4\u001b[39m \u001b[38;5;28;01mif\u001b[39;00m \u001b[38;5;28mhasattr\u001b[39m(node, \u001b[33m'\u001b[39m\u001b[33mnext_functions\u001b[39m\u001b[33m'\u001b[39m):\n\u001b[32m----> \u001b[39m\u001b[32m5\u001b[39m     node = \u001b[43mnode\u001b[49m\u001b[43m.\u001b[49m\u001b[43mnext_functions\u001b[49m\u001b[43m[\u001b[49m\u001b[32;43m0\u001b[39;49m\u001b[43m]\u001b[49m[\u001b[32m0\u001b[39m]  \u001b[38;5;66;03m# follow the chain\u001b[39;00m\n\u001b[32m      6\u001b[39m \u001b[38;5;28;01melse\u001b[39;00m:\n\u001b[32m      7\u001b[39m     node = \u001b[38;5;28;01mNone\u001b[39;00m\n",
      "\u001b[31mIndexError\u001b[39m: tuple index out of range"
     ]
    }
   ],
   "source": [
    "node = loss.grad_fn\n",
    "while node is not None:\n",
    "    print(type(node))\n",
    "    if hasattr(node, 'next_functions'):\n",
    "        node = node.next_functions[0][0]  # follow the chain\n",
    "    else:\n",
    "        node = None"
   ]
  },
  {
   "cell_type": "code",
   "execution_count": 43,
   "id": "cd99a73e",
   "metadata": {},
   "outputs": [
    {
     "name": "stdout",
     "output_type": "stream",
     "text": [
      "<class 'BinaryCrossEntropyBackward0'>\n",
      "<class 'SigmoidBackward0'>\n",
      "<class 'AddmmBackward0'>\n",
      "<class 'AccumulateGrad'>\n",
      "<class 'ReluBackward0'>\n",
      "<class 'AddmmBackward0'>\n",
      "<class 'AccumulateGrad'>\n",
      "<class 'TBackward0'>\n",
      "<class 'AccumulateGrad'>\n",
      "<class 'TBackward0'>\n",
      "<class 'AccumulateGrad'>\n"
     ]
    }
   ],
   "source": [
    "def traverse(node, visited=set()):\n",
    "    if node is None or node in visited:\n",
    "        return\n",
    "    visited.add(node)\n",
    "    print(type(node))\n",
    "    if hasattr(node, 'next_functions'):\n",
    "        for f, _ in node.next_functions:\n",
    "            traverse(f, visited)\n",
    "\n",
    "traverse(loss.grad_fn)"
   ]
  },
  {
   "cell_type": "code",
   "execution_count": 31,
   "id": "c04dc5ed",
   "metadata": {},
   "outputs": [
    {
     "name": "stdout",
     "output_type": "stream",
     "text": [
      "fc1.weight torch.Size([4, 3]) True None None\n",
      "fc1.bias torch.Size([4]) True None None\n",
      "fc2.weight torch.Size([1, 4]) True None None\n",
      "fc2.bias torch.Size([1]) True None None\n"
     ]
    }
   ],
   "source": [
    "for name, param in model.named_parameters():\n",
    "    print(name, param.shape, param.requires_grad, param.grad, param.grad_fn)"
   ]
  },
  {
   "cell_type": "code",
   "execution_count": 32,
   "id": "4090b0c9",
   "metadata": {},
   "outputs": [
    {
     "name": "stdout",
     "output_type": "stream",
     "text": [
      "\n",
      "Gradient for fc1 weights:\n",
      " tensor([[ 0.0423, -0.0489, -0.0277],\n",
      "        [-0.0164, -0.0318, -0.0152],\n",
      "        [ 0.0000,  0.0000,  0.0000],\n",
      "        [ 0.0083,  0.0067,  0.0057]])\n",
      "fc1.weight tensor([[-0.1276, -0.4260, -0.5297],\n",
      "        [ 0.2210, -0.3671, -0.2224],\n",
      "        [-0.2153,  0.2381,  0.0116],\n",
      "        [ 0.2245,  0.1306, -0.4408]]) tensor([[ 0.0423, -0.0489, -0.0277],\n",
      "        [-0.0164, -0.0318, -0.0152],\n",
      "        [ 0.0000,  0.0000,  0.0000],\n",
      "        [ 0.0083,  0.0067,  0.0057]])\n",
      "fc1.bias tensor([ 0.4330,  0.2515, -0.3183, -0.3463]) tensor([-0.0108, -0.0186,  0.0000, -0.0105])\n",
      "fc2.weight tensor([[ 0.3565,  0.1570, -0.2207, -0.1637]]) tensor([[ 0.0712,  0.0429,  0.0000, -0.0239]])\n",
      "fc2.bias tensor([0.1944]) tensor([-0.0100])\n"
     ]
    }
   ],
   "source": [
    "\n",
    "# Step 5: Backward pass\n",
    "optimizer.zero_grad()   # clear previous gradients\n",
    "loss.backward()         # compute gradients (dL/dW)\n",
    "print(\"\\nGradient for fc1 weights:\\n\", model.fc1.weight.grad)  # check gradients\n",
    "for name, param in model.named_parameters():\n",
    "    print(name, param.data, param.grad)\n",
    "# Step 6: Update parameters\n",
    "# optimizer.step()        # apply gradient descent update\n",
    "# print(\"\\nLoss after one update step:\")\n",
    "# print(criterion(model(x), y_true).item())"
   ]
  },
  {
   "cell_type": "code",
   "execution_count": 17,
   "id": "50691917",
   "metadata": {},
   "outputs": [],
   "source": [
    "optimizer = torch.optim.SGD([\n",
    "    {\"params\": model.fc1.parameters(), \"lr\": 0.1},   # group 1\n",
    "    {\"params\": model.fc2.parameters(), \"lr\": 0.01},  # group 2\n",
    "], momentum=0.9)"
   ]
  },
  {
   "cell_type": "code",
   "execution_count": 18,
   "id": "dc917393",
   "metadata": {},
   "outputs": [
    {
     "data": {
      "text/plain": [
       "[{'params': [Parameter containing:\n",
       "   tensor([[-0.2444, -0.3968, -0.3645],\n",
       "           [-0.3145, -0.1763,  0.2024],\n",
       "           [-0.1106,  0.5706,  0.5384],\n",
       "           [ 0.1965,  0.2396, -0.1818]], requires_grad=True),\n",
       "   Parameter containing:\n",
       "   tensor([ 0.4497, -0.5074,  0.4030, -0.2264], requires_grad=True)],\n",
       "  'lr': 0.1,\n",
       "  'momentum': 0.9,\n",
       "  'dampening': 0,\n",
       "  'weight_decay': 0,\n",
       "  'nesterov': False,\n",
       "  'maximize': False,\n",
       "  'foreach': None,\n",
       "  'differentiable': False,\n",
       "  'fused': None},\n",
       " {'params': [Parameter containing:\n",
       "   tensor([[-0.2614, -0.4362,  0.0727, -0.2088]], requires_grad=True),\n",
       "   Parameter containing:\n",
       "   tensor([-0.4236], requires_grad=True)],\n",
       "  'lr': 0.01,\n",
       "  'momentum': 0.9,\n",
       "  'dampening': 0,\n",
       "  'weight_decay': 0,\n",
       "  'nesterov': False,\n",
       "  'maximize': False,\n",
       "  'foreach': None,\n",
       "  'differentiable': False,\n",
       "  'fused': None}]"
      ]
     },
     "execution_count": 18,
     "metadata": {},
     "output_type": "execute_result"
    }
   ],
   "source": [
    "optimizer.param_groups"
   ]
  },
  {
   "cell_type": "code",
   "execution_count": null,
   "id": "64132d4f",
   "metadata": {},
   "outputs": [],
   "source": []
  }
 ],
 "metadata": {
  "kernelspec": {
   "display_name": "ml",
   "language": "python",
   "name": "python3"
  },
  "language_info": {
   "codemirror_mode": {
    "name": "ipython",
    "version": 3
   },
   "file_extension": ".py",
   "mimetype": "text/x-python",
   "name": "python",
   "nbconvert_exporter": "python",
   "pygments_lexer": "ipython3",
   "version": "3.13.7"
  }
 },
 "nbformat": 4,
 "nbformat_minor": 5
}
